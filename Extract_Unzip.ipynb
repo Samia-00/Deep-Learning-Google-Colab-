{
  "nbformat": 4,
  "nbformat_minor": 0,
  "metadata": {
    "colab": {
      "name": "Extract_Unzip.ipynb",
      "provenance": [],
      "authorship_tag": "ABX9TyPceiXrijCqRs4UVORoQR7W"
    },
    "kernelspec": {
      "name": "python3",
      "display_name": "Python 3"
    },
    "language_info": {
      "name": "python"
    },
    "accelerator": "GPU"
  },
  "cells": [
    {
      "cell_type": "code",
      "metadata": {
        "id": "SDevJ9PV4UIC"
      },
      "source": [
        "from google.colab import drive"
      ],
      "execution_count": 4,
      "outputs": []
    },
    {
      "cell_type": "code",
      "metadata": {
        "colab": {
          "base_uri": "https://localhost:8080/"
        },
        "id": "I5XSpu1--FdJ",
        "outputId": "8adaa6f3-cbce-4af6-a569-853b41e36099"
      },
      "source": [
        "drive.mount('/content/drive')"
      ],
      "execution_count": 5,
      "outputs": [
        {
          "output_type": "stream",
          "name": "stdout",
          "text": [
            "Mounted at /content/drive\n"
          ]
        }
      ]
    },
    {
      "cell_type": "code",
      "metadata": {
        "id": "AmnBm7Ja_LVZ"
      },
      "source": [
        "import os"
      ],
      "execution_count": 7,
      "outputs": []
    },
    {
      "cell_type": "code",
      "metadata": {
        "colab": {
          "base_uri": "https://localhost:8080/"
        },
        "id": "HwuW5ixB_OKD",
        "outputId": "43dfae40-d797-4dc9-ce7d-475c36b6f68b"
      },
      "source": [
        "os.listdir()\n"
      ],
      "execution_count": 8,
      "outputs": [
        {
          "output_type": "execute_result",
          "data": {
            "text/plain": [
              "['.config', 'drive', 'sample_data']"
            ]
          },
          "metadata": {},
          "execution_count": 8
        }
      ]
    },
    {
      "cell_type": "code",
      "metadata": {
        "colab": {
          "base_uri": "https://localhost:8080/"
        },
        "id": "cm-ca1wbAlHZ",
        "outputId": "e2ee0eb8-1aee-4925-d396-bd2dca2cc458"
      },
      "source": [
        "!unzip '/content/drive/My Drive/new_things/Demo_Code.zip' -d '/content/drive/My Drive/new_things'"
      ],
      "execution_count": 14,
      "outputs": [
        {
          "output_type": "stream",
          "name": "stdout",
          "text": [
            "Archive:  /content/drive/My Drive/new_things/Demo_Code.zip\n",
            "  inflating: /content/drive/My Drive/new_things/Demo_Code.y  \n",
            "  inflating: /content/drive/My Drive/new_things/Demo_Code.l  \n"
          ]
        }
      ]
    }
  ]
}