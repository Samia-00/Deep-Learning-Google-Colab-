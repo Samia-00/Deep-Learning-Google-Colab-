{
  "nbformat": 4,
  "nbformat_minor": 0,
  "metadata": {
    "colab": {
      "name": "Pre-Trained_Model.ipynb",
      "provenance": [],
      "authorship_tag": "ABX9TyMC1BeDBFZTK6pm0DAIqe4+"
    },
    "kernelspec": {
      "name": "python3",
      "display_name": "Python 3"
    },
    "language_info": {
      "name": "python"
    },
    "accelerator": "TPU"
  },
  "cells": [
    {
      "cell_type": "code",
      "metadata": {
        "id": "6NLScVC9P9jS"
      },
      "source": [
        "import os\n",
        "import cv2\n",
        "import numpy as np\n",
        "import pandas as pd\n",
        "import tensorflow as tf\n",
        "from google.colab import drive\n",
        "import matplotlib.pyplot as plt\n",
        "from tensorflow.keras.preprocessing import image\n",
        "from tensorflow.keras import Model as model1\n",
        "from tensorflow.keras.models import Sequential\n",
        "from tensorflow.keras.models import model_from_json\n",
        "from tensorflow.keras.preprocessing.image import ImageDataGenerator ,load_img\n",
        "from tensorflow.keras.layers import Conv2D,Flatten,Dense,MaxPool2D,BatchNormalization"
      ],
      "execution_count": 38,
      "outputs": []
    },
    {
      "cell_type": "code",
      "metadata": {
        "colab": {
          "base_uri": "https://localhost:8080/"
        },
        "id": "gDppvqEHYJ4m",
        "outputId": "0338e2ed-100f-4ac7-d18f-5864b6ef942d"
      },
      "source": [
        "drive.mount('/content/drive')"
      ],
      "execution_count": 3,
      "outputs": [
        {
          "output_type": "stream",
          "name": "stdout",
          "text": [
            "Mounted at /content/drive\n"
          ]
        }
      ]
    },
    {
      "cell_type": "markdown",
      "metadata": {
        "id": "2-2CR-fBY11r"
      },
      "source": [
        "# Generating Labels using image data generator"
      ]
    },
    {
      "cell_type": "code",
      "metadata": {
        "id": "kiZyKjymYgMA"
      },
      "source": [
        "labeling_job_train=ImageDataGenerator(rescale=1./255)"
      ],
      "execution_count": 4,
      "outputs": []
    },
    {
      "cell_type": "code",
      "metadata": {
        "colab": {
          "base_uri": "https://localhost:8080/"
        },
        "id": "l481k4tvZRBB",
        "outputId": "80d6e0ea-a343-4051-d8c4-db950af31bc3"
      },
      "source": [
        "train1=labeling_job_train.flow_from_directory('/content/drive/My Drive/Computer_Vision/basedata/Training',target_size=(260,260),batch_size=32)\n",
        "valid1=labeling_job_train.flow_from_directory('/content/drive/My Drive/Computer_Vision/basedata/Validation',target_size=(260,260),batch_size=32,classes=train1.class_indices)\n",
        "#test1=labeling_job_train.flow_from_directory('/content/drive/My Drive/Computer_Vision/basedata/Testing',target_size=(260,260),batch_size=32,classes=train1.class_indices)\n"
      ],
      "execution_count": 13,
      "outputs": [
        {
          "output_type": "stream",
          "name": "stdout",
          "text": [
            "Found 40 images belonging to 2 classes.\n",
            "Found 40 images belonging to 2 classes.\n"
          ]
        }
      ]
    },
    {
      "cell_type": "markdown",
      "metadata": {
        "id": "9pGGdG1Odggk"
      },
      "source": [
        "# Load Json ande create model"
      ]
    },
    {
      "cell_type": "code",
      "metadata": {
        "id": "OOgf8oRrdfRy"
      },
      "source": [
        "json_file=open(\"/content/drive/My Drive/fruit/saved_model.json\",\"r\")\n",
        "loaded_model_json=json_file.read()\n",
        "json_file.close()\n",
        "loaded_model=model_from_json(loaded_model_json)"
      ],
      "execution_count": 15,
      "outputs": []
    },
    {
      "cell_type": "markdown",
      "metadata": {
        "id": "EguKm_QJgx__"
      },
      "source": [
        "# load weights into new model"
      ]
    },
    {
      "cell_type": "code",
      "metadata": {
        "colab": {
          "base_uri": "https://localhost:8080/"
        },
        "id": "m-JCt9b9g3sA",
        "outputId": "8501ef94-cd52-4eff-94c4-fc38dc3e9116"
      },
      "source": [
        "loaded_model.load_weights(\"/content/drive/My Drive/fruit/saved_model.h5\")\n",
        "print(\"Loaded model from diskk\")"
      ],
      "execution_count": 16,
      "outputs": [
        {
          "output_type": "stream",
          "name": "stdout",
          "text": [
            "Loaded model from diskk\n"
          ]
        }
      ]
    },
    {
      "cell_type": "markdown",
      "metadata": {
        "id": "Zfb2JO3eh6a3"
      },
      "source": [
        "# Evaluate model on test data"
      ]
    },
    {
      "cell_type": "code",
      "metadata": {
        "id": "Xw0wKh3gh-kv"
      },
      "source": [
        "loaded_model.compile(optimizer='adam',loss='categorical_crossentropy',metrics=['accuracy'])\n",
        "\n",
        "for i in range(len(loaded_model.layers)):\n",
        "  if i <4:\n",
        "    loaded_model.layers[i].trainable=False\n",
        "  else:\n",
        "    loaded_model.layers[i].trainable=True\n",
        "#for layers in loaded_model.layers:\n",
        "  #layers.trainable=False\n",
        "\n",
        "last_layer=loaded_model.get_layer('flatten').output\n",
        "out=Flatten()(last_layer)\n",
        "\n",
        "out=Dense(2, activation='sigmoid',name='fc3')(out)\n",
        "custom_model=model1(loaded_model.input,out)"
      ],
      "execution_count": 27,
      "outputs": []
    },
    {
      "cell_type": "code",
      "metadata": {
        "colab": {
          "base_uri": "https://localhost:8080/"
        },
        "id": "QH_GsdoMkx0S",
        "outputId": "98bc1ff7-8e76-489b-bbaf-da5a034ecc7a"
      },
      "source": [
        "custom_model.summary()"
      ],
      "execution_count": 28,
      "outputs": [
        {
          "output_type": "stream",
          "name": "stdout",
          "text": [
            "Model: \"model_3\"\n",
            "_________________________________________________________________\n",
            "Layer (type)                 Output Shape              Param #   \n",
            "=================================================================\n",
            "conv2d_input (InputLayer)    [(None, 260, 260, 3)]     0         \n",
            "_________________________________________________________________\n",
            "conv2d (Conv2D)              (None, 258, 258, 32)      896       \n",
            "_________________________________________________________________\n",
            "max_pooling2d (MaxPooling2D) (None, 86, 86, 32)        0         \n",
            "_________________________________________________________________\n",
            "conv2d_1 (Conv2D)            (None, 84, 84, 64)        18496     \n",
            "_________________________________________________________________\n",
            "max_pooling2d_1 (MaxPooling2 (None, 28, 28, 64)        0         \n",
            "_________________________________________________________________\n",
            "conv2d_2 (Conv2D)            (None, 26, 26, 128)       73856     \n",
            "_________________________________________________________________\n",
            "max_pooling2d_2 (MaxPooling2 (None, 8, 8, 128)         0         \n",
            "_________________________________________________________________\n",
            "conv2d_3 (Conv2D)            (None, 6, 6, 256)         295168    \n",
            "_________________________________________________________________\n",
            "max_pooling2d_3 (MaxPooling2 (None, 2, 2, 256)         0         \n",
            "_________________________________________________________________\n",
            "max_pooling2d_4 (MaxPooling2 (None, 1, 1, 256)         0         \n",
            "_________________________________________________________________\n",
            "flatten (Flatten)            (None, 256)               0         \n",
            "_________________________________________________________________\n",
            "flatten_3 (Flatten)          (None, 256)               0         \n",
            "_________________________________________________________________\n",
            "fc3 (Dense)                  (None, 2)                 514       \n",
            "=================================================================\n",
            "Total params: 388,930\n",
            "Trainable params: 369,538\n",
            "Non-trainable params: 19,392\n",
            "_________________________________________________________________\n"
          ]
        }
      ]
    },
    {
      "cell_type": "markdown",
      "metadata": {
        "id": "G3uoGwwzl4NE"
      },
      "source": [
        "# Compile model and run"
      ]
    },
    {
      "cell_type": "code",
      "metadata": {
        "colab": {
          "base_uri": "https://localhost:8080/"
        },
        "id": "pBE6H3Yol8IU",
        "outputId": "4fb1ec67-9dc6-41cf-ce5d-5a6d7f6a7f53"
      },
      "source": [
        "custom_model.compile(optimizer='adam',loss='categorical_crossentropy',metrics=['accuracy'])\n",
        "custom_model.fit(train1,epochs=10,validation_data=valid1)"
      ],
      "execution_count": 29,
      "outputs": [
        {
          "output_type": "stream",
          "name": "stdout",
          "text": [
            "Epoch 1/10\n",
            "2/2 [==============================] - 3s 2s/step - loss: 3.3061 - accuracy: 0.4500 - val_loss: 3.6111 - val_accuracy: 0.5750\n",
            "Epoch 2/10\n",
            "2/2 [==============================] - 2s 2s/step - loss: 1.6593 - accuracy: 0.6500 - val_loss: 2.6829 - val_accuracy: 0.5250\n",
            "Epoch 3/10\n",
            "2/2 [==============================] - 2s 2s/step - loss: 2.9183 - accuracy: 0.5250 - val_loss: 0.8978 - val_accuracy: 0.7250\n",
            "Epoch 4/10\n",
            "2/2 [==============================] - 2s 2s/step - loss: 0.4323 - accuracy: 0.8500 - val_loss: 1.1178 - val_accuracy: 0.6750\n",
            "Epoch 5/10\n",
            "2/2 [==============================] - 2s 1s/step - loss: 1.1583 - accuracy: 0.6750 - val_loss: 0.3556 - val_accuracy: 0.8500\n",
            "Epoch 6/10\n",
            "2/2 [==============================] - 2s 1s/step - loss: 0.3519 - accuracy: 0.8750 - val_loss: 0.4550 - val_accuracy: 0.8250\n",
            "Epoch 7/10\n",
            "2/2 [==============================] - 2s 2s/step - loss: 0.7118 - accuracy: 0.7750 - val_loss: 0.6601 - val_accuracy: 0.7750\n",
            "Epoch 8/10\n",
            "2/2 [==============================] - 2s 1s/step - loss: 0.6466 - accuracy: 0.8000 - val_loss: 0.1906 - val_accuracy: 0.9250\n",
            "Epoch 9/10\n",
            "2/2 [==============================] - 2s 1s/step - loss: 0.1993 - accuracy: 0.9250 - val_loss: 0.0761 - val_accuracy: 1.0000\n",
            "Epoch 10/10\n",
            "2/2 [==============================] - 2s 1s/step - loss: 0.1032 - accuracy: 0.9750 - val_loss: 0.1021 - val_accuracy: 0.9500\n"
          ]
        },
        {
          "output_type": "execute_result",
          "data": {
            "text/plain": [
              "<keras.callbacks.History at 0x7f23a5f0ca10>"
            ]
          },
          "metadata": {},
          "execution_count": 29
        }
      ]
    },
    {
      "cell_type": "code",
      "metadata": {
        "colab": {
          "base_uri": "https://localhost:8080/"
        },
        "id": "_rRi6_Dro9J4",
        "outputId": "fe672eee-6cb0-410a-c1ab-e5c647556fe8"
      },
      "source": [
        "train1.class_indices"
      ],
      "execution_count": 30,
      "outputs": [
        {
          "output_type": "execute_result",
          "data": {
            "text/plain": [
              "{'happy': 0, 'not happy': 1}"
            ]
          },
          "metadata": {},
          "execution_count": 30
        }
      ]
    }
  ]
}